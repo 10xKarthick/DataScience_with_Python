{
 "nbformat": 4,
 "nbformat_minor": 2,
 "metadata": {
  "language_info": {
   "name": "python",
   "codemirror_mode": {
    "name": "ipython",
    "version": 3
   }
  },
  "orig_nbformat": 2,
  "file_extension": ".py",
  "mimetype": "text/x-python",
  "name": "python",
  "npconvert_exporter": "python",
  "pygments_lexer": "ipython3",
  "version": 3
 },
 "cells": [
  {
   "cell_type": "code",
   "execution_count": 1,
   "metadata": {},
   "outputs": [],
   "source": [
    "import numpy as np\n",
    "from scipy import integrate"
   ]
  },
  {
   "cell_type": "code",
   "execution_count": 3,
   "metadata": {},
   "outputs": [],
   "source": [
    "def f(x):\n",
    "    \"\"\"simple function to integrate\"\"\"\n",
    "    return np.sin(x)\n",
    "\n",
    "\n",
    "def trap(f, xmin, xmax, npoints=10):\n",
    "    \"\"\"\n",
    "    computes the integral of f using trapezoid rule\n",
    "    \"\"\"\n",
    "    area = 0\n",
    "    x = np.linspace(xmin, xmax, npoints)\n",
    "    N = len(x)\n",
    "    dx = x[1] - x[0]\n",
    "    \n",
    "    for k in range(1, N):\n",
    "        area += (f(x[k - 1]) + f(x[k])) * dx / 2\n",
    "        \n",
    "    return area\n",
    "\n"
   ]
  },
  {
   "cell_type": "code",
   "execution_count": 11,
   "metadata": {},
   "outputs": [],
   "source": [
    "trap(f, 0, np.pi, 1500)"
   ]
  },
  {
   "cell_type": "code",
   "execution_count": 12,
   "metadata": {},
   "outputs": [],
   "source": [
    "%timeit trap(f, 0, np.pi, 1500)"
   ]
  },
  {
   "cell_type": "code",
   "execution_count": 13,
   "metadata": {},
   "outputs": [],
   "source": [
    "integrate.quad(f,0,np.pi)"
   ]
  },
  {
   "cell_type": "code",
   "execution_count": 14,
   "metadata": {},
   "outputs": [],
   "source": [
    "%timeit integrate.quad(f,0,np.pi)"
   ]
  },
  {
   "cell_type": "code",
   "execution_count": null,
   "metadata": {},
   "outputs": [],
   "source": []
  }
 ]
}
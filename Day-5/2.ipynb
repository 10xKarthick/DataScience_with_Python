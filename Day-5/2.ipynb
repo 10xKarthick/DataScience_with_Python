{
 "nbformat": 4,
 "nbformat_minor": 2,
 "metadata": {
  "language_info": {
   "name": "python",
   "codemirror_mode": {
    "name": "ipython",
    "version": 3
   }
  },
  "orig_nbformat": 2,
  "file_extension": ".py",
  "mimetype": "text/x-python",
  "name": "python",
  "npconvert_exporter": "python",
  "pygments_lexer": "ipython3",
  "version": 3
 },
 "cells": [
  {
   "cell_type": "markdown",
   "execution_count": null,
   "metadata": {},
   "outputs": [],
   "source": [
    "# 1. Load in Data\n",
    "Import numpy, pandas and matplotlib libraries, and load data into a Pandas dataframe.\n",
    "Print data shape and summary info of data."
   ]
  },
  {
   "cell_type": "code",
   "execution_count": 34,
   "metadata": {},
   "outputs": [],
   "source": [
    "import pandas as pd\n",
    "import matplotlib.pyplot as plt\n",
    "\n",
    "df = pd.read_csv('admission.csv')\n",
    "print(df.shape)\n",
    "df.info()"
   ]
  },
  {
   "cell_type": "code",
   "execution_count": 35,
   "metadata": {},
   "outputs": [],
   "source": [
    "df = df.drop(['Serial No.'], axis=1)\n",
    "new_names = {'GRE Score':'gre', 'TOEFL Score':'toefl', 'University Rating':'rating', 'SOP':'sop', 'LOR':'lor', 'CGPA':'gpa', 'Research':'research', 'Chance of Admit ':'chance'}\n",
    "df.rename(columns=new_names, inplace=True)\n",
    "df.head()"
   ]
  },
  {
   "cell_type": "markdown",
   "execution_count": null,
   "metadata": {},
   "outputs": [],
   "source": [
    "# 3. Scope out Data\n",
    "Show boxplots to see high-level distribution of main columns.\n",
    "Use pandas.describe() to see high-level distribution of data."
   ]
  },
  {
   "cell_type": "code",
   "execution_count": 38,
   "metadata": {},
   "outputs": [],
   "source": [
    "plt.figure(1, figsize=(14,4))\n",
    "for i in range(1,6):\n",
    "    plt.subplot(1,5,i)\n",
    "    plt.boxplot(df[df.columns[i]])\n",
    "    plt.title(df.columns[i])\n",
    "plt.show()\n",
    "df.describe()"
   ]
  },
  {
   "cell_type": "markdown",
   "execution_count": 25,
   "metadata": {},
   "outputs": [],
   "source": [
    "# 4. Detailed Data Distribution\n",
    "Plot histograms for main columns to show detailed distribution of data"
   ]
  },
  {
   "cell_type": "code",
   "execution_count": 26,
   "metadata": {},
   "outputs": [],
   "source": [
    "df[['gre','toefl','rating','gpa','research','chance']].hist(figsize=(14, 9),bins=16,linewidth='1',edgecolor='k',grid=False)\n",
    "plt.show()"
   ]
  },
  {
   "cell_type": "markdown",
   "execution_count": 27,
   "metadata": {},
   "outputs": [],
   "source": [
    "# 5. Show Correlation with Chance of Acceptance\n",
    "Calculate correlation between each data column and Chance of Acceptance.\n",
    "Here we can see GPA, GRE score and TOEFL score are the most important features because they have the best correlation with acceptance.\n",
    "Research appears to be the least important feature."
   ]
  },
  {
   "cell_type": "code",
   "execution_count": 28,
   "metadata": {},
   "outputs": [],
   "source": [
    "correlation = df.corr()['chance']\n",
    "plt.bar(df.columns, correlation, color='gray')\n",
    "plt.show()\n",
    "print(correlation)"
   ]
  },
  {
   "cell_type": "markdown",
   "execution_count": 29,
   "metadata": {},
   "outputs": [],
   "source": [
    "# 6. Plot Relations between GRE & TOEFL, and GPA & GRE\n",
    "We can see a strong correlation between TOEFL and GRE scores -- people scoring high on one probably scored high on the other.\n",
    "And we see a strong correlation between GPA and GRE -- people with a high GPA probably scored high on the GRE."
   ]
  },
  {
   "cell_type": "code",
   "execution_count": 30,
   "metadata": {},
   "outputs": [],
   "source": [
    "df.plot(kind='scatter', x='gre', y='toefl', color='green')\n",
    "plt.xlabel(\"GRE\")\n",
    "plt.ylabel(\"TOEFL\")\n",
    "plt.show()\n",
    "\n",
    "df.plot(kind='scatter', x='gpa', y='gre', color='red')\n",
    "plt.xlabel(\"GPA\")\n",
    "plt.ylabel(\"GRE\")\n",
    "plt.show()"
   ]
  },
  {
   "cell_type": "markdown",
   "execution_count": 31,
   "metadata": {},
   "outputs": [],
   "source": [
    "# 7. Plot relations between Chance and other Features"
   ]
  },
  {
   "cell_type": "code",
   "execution_count": 33,
   "metadata": {},
   "outputs": [],
   "source": [
    "for i in range(0,7):\n",
    "    df.plot(kind='scatter', x='chance', y=df.columns[i]) \n",
    "    plt.xlabel(\"Chance\")\n",
    "    plt.ylabel(df.columns[i])\n",
    "    plt.show()"
   ]
  },
  {
   "cell_type": "code",
   "execution_count": null,
   "metadata": {},
   "outputs": [],
   "source": []
  }
 ]
}